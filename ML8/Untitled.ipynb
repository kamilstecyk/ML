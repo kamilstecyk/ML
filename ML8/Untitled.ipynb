{
 "cells": [
  {
   "cell_type": "code",
   "execution_count": 1,
   "id": "ff4a74b6-6969-40fa-ac2e-e53f00036211",
   "metadata": {},
   "outputs": [],
   "source": [
    "# we load the data\n",
    "\n",
    "from sklearn import datasets\n",
    "data_breast_cancer = datasets.load_breast_cancer()\n",
    "\n",
    "from sklearn.datasets import load_iris \n",
    "data_iris = load_iris()\n",
    "\n",
    "X1 = data_breast_cancer[\"data\"]\n",
    "X2 = data_iris[\"data\"]\n"
   ]
  },
  {
   "cell_type": "code",
   "execution_count": 2,
   "id": "96a8e159-7fa8-4e67-a724-827a5f1b1234",
   "metadata": {},
   "outputs": [],
   "source": [
    "# we reduce the number of dimensions"
   ]
  },
  {
   "cell_type": "code",
   "execution_count": 3,
   "id": "3fa792fc-b180-4b51-b410-66b641d8f7f0",
   "metadata": {},
   "outputs": [
    {
     "name": "stdout",
     "output_type": "stream",
     "text": [
      "[0.98204467]\n",
      "(569, 30) --> (569, 1)\n",
      "\n",
      "\n",
      "0.9\n",
      "0.9100953006967307\n",
      "(569, 30) --> (569, 7)\n",
      "[0.44272026 0.18971182 0.09393163 0.06602135 0.05495768 0.04024522\n",
      " 0.02250734]\n",
      "[0.44272025607526305, 0.189711820440331, 0.09393163257431378, 0.06602134915470166, 0.054957684923462695, 0.04024522039883345, 0.022507337129825056]\n"
     ]
    }
   ],
   "source": [
    "# data_breast_cancer\n",
    "\n",
    "from sklearn.decomposition import PCA\n",
    "import numpy as np\n",
    "\n",
    "\n",
    "# without scaling\n",
    "\n",
    "pca = PCA(n_components=0.9)\n",
    "X1Reduced = pca.fit_transform(X1)\n",
    "\n",
    "print(pca.explained_variance_ratio_)\n",
    "print(X1.shape,'-->', X1Reduced.shape)\n",
    "\n",
    "print(\"\\n\")\n",
    "\n",
    "\n",
    "# with scaling\n",
    "\n",
    "from sklearn.preprocessing import StandardScaler\n",
    "\n",
    "pcaS = PCA(n_components=0.9)\n",
    "\n",
    "\n",
    "\n",
    "scaler = StandardScaler()\n",
    "\n",
    "X1Scaled = scaler.fit_transform(X1)\n",
    "\n",
    "X1ReducedScaled = pcaS.fit_transform(X1Scaled)\n",
    "\n",
    "print(pcaS.n_components)\n",
    "print(np.sum(pcaS.explained_variance_ratio_))\n",
    "print(X1Scaled.shape,'-->', X1ReducedScaled.shape)\n",
    "\n",
    "\n",
    "print(pcaS.explained_variance_ratio_)\n",
    "listOfExplainedVariance = list(pcaS.explained_variance_ratio_)\n",
    "print(listOfExplainedVariance)\n",
    "\n",
    "\n",
    "\n"
   ]
  },
  {
   "cell_type": "code",
   "execution_count": 4,
   "id": "3abdc39e-1235-4ee9-9f92-043de316cfa3",
   "metadata": {},
   "outputs": [
    {
     "name": "stdout",
     "output_type": "stream",
     "text": [
      "[0.92461872]\n",
      "(150, 4) --> (150, 1)\n",
      "\n",
      "\n",
      "0.9\n",
      "0.9581320720000164\n",
      "(150, 4) --> (150, 2)\n",
      "[0.72962445 0.22850762]\n",
      "[0.7296244541329985, 0.22850761786701793]\n"
     ]
    }
   ],
   "source": [
    "# data_iris\n",
    "\n",
    "from sklearn.decomposition import PCA\n",
    "\n",
    "# without scaling\n",
    "\n",
    "pca2 = PCA(n_components=0.9)\n",
    "\n",
    "X2Reduced = pca2.fit_transform(X2)\n",
    "\n",
    "print(pca2.explained_variance_ratio_)\n",
    "print(X2.shape,'-->', X2Reduced.shape)\n",
    "\n",
    "\n",
    "print(\"\\n\")\n",
    "\n",
    "\n",
    "# with scaling\n",
    "\n",
    "from sklearn.preprocessing import StandardScaler\n",
    "\n",
    "pca2S = PCA(n_components=0.9)\n",
    "\n",
    "\n",
    "\n",
    "scaler2 = StandardScaler()\n",
    "\n",
    "X2Scaled = scaler2.fit_transform(X2)\n",
    "\n",
    "X2ReducedScaled = pca2S.fit_transform(X2Scaled)\n",
    "\n",
    "print(pca2S.n_components)\n",
    "print(np.sum(pca2S.explained_variance_ratio_))\n",
    "print(X2Scaled.shape,'-->', X2ReducedScaled.shape)\n",
    "\n",
    "print(pca2S.explained_variance_ratio_)\n",
    "list2OfExplainedVariance = list(pca2S.explained_variance_ratio_)\n",
    "print(list2OfExplainedVariance)\n",
    "\n"
   ]
  },
  {
   "cell_type": "code",
   "execution_count": 5,
   "id": "27dd0ab3-8ddf-4415-8cb7-ed00e8d2a3a4",
   "metadata": {},
   "outputs": [],
   "source": [
    "# we pickle the data\n",
    "\n",
    "import pickle\n",
    "\n",
    "# 1\n",
    "\n",
    "with open('pca_bc.pkl', 'wb') as fh:\n",
    "   pickle.dump(listOfExplainedVariance, fh)\n",
    "\n",
    "# 2\n",
    "\n",
    "with open('pca_ir.pkl', 'wb') as fh2:\n",
    "   pickle.dump(list2OfExplainedVariance, fh2)\n",
    "\n",
    "\n"
   ]
  },
  {
   "cell_type": "code",
   "execution_count": 6,
   "id": "1450e8a4-4bb5-41c4-958e-19d89fc8079c",
   "metadata": {},
   "outputs": [
    {
     "name": "stdout",
     "output_type": "stream",
     "text": [
      "(7, 30)\n",
      "[7, 9, 11, 4, 16, 28, 29]\n",
      "[2, 1]\n"
     ]
    }
   ],
   "source": [
    "# we check components\n",
    "\n",
    "# pcaS\n",
    "\n",
    "\n",
    "print(pcaS.components_.shape)\n",
    "\n",
    "listBC = list()\n",
    "listIR = list()\n",
    "\n",
    "for row in pcaS.components_:\n",
    "    listBC.append(np.argmax(row))\n",
    "\n",
    "for row in pca2S.components_:\n",
    "    listIR.append(np.argmax(row))\n",
    "\n",
    "print(listBC)\n",
    "print(listIR)\n",
    "\n",
    "\n",
    "\n"
   ]
  },
  {
   "cell_type": "code",
   "execution_count": 7,
   "id": "59a5e6ab-6a93-40c9-8c12-65ac3ce1805f",
   "metadata": {},
   "outputs": [],
   "source": [
    "# we pickle data\n",
    "\n",
    "import pickle\n",
    "\n",
    "# 1\n",
    "\n",
    "with open('idx_bc.pkl', 'wb') as fh:\n",
    "   pickle.dump(listBC, fh)\n",
    "\n",
    "# 2\n",
    "\n",
    "with open('idx_ir.pkl', 'wb') as fh2:\n",
    "   pickle.dump(listIR, fh2)\n",
    "\n",
    "\n",
    "\n",
    "\n"
   ]
  },
  {
   "cell_type": "code",
   "execution_count": null,
   "id": "c8f142a5-acdc-477e-a33d-21d6a94717e3",
   "metadata": {},
   "outputs": [],
   "source": []
  }
 ],
 "metadata": {
  "kernelspec": {
   "display_name": "Python 3",
   "language": "python",
   "name": "python3"
  },
  "language_info": {
   "codemirror_mode": {
    "name": "ipython",
    "version": 3
   },
   "file_extension": ".py",
   "mimetype": "text/x-python",
   "name": "python",
   "nbconvert_exporter": "python",
   "pygments_lexer": "ipython3",
   "version": "3.8.8"
  }
 },
 "nbformat": 4,
 "nbformat_minor": 5
}
