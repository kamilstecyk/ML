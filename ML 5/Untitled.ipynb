{
 "cells": [
  {
   "cell_type": "code",
   "execution_count": 1,
   "id": "30deae4a-da3d-4b5b-95cd-15829b3fb1f6",
   "metadata": {},
   "outputs": [
    {
     "data": {
      "text/plain": [
       "<AxesSubplot:xlabel='x', ylabel='y'>"
      ]
     },
     "execution_count": 1,
     "metadata": {},
     "output_type": "execute_result"
    },
    {
     "data": {
      "image/png": "[encoded data removed]",
      "text/plain": [
       "<Figure size 432x288 with 1 Axes>"
      ]
     },
     "metadata": {
      "needs_background": "light"
     },
     "output_type": "display_data"
    }
   ],
   "source": [
    "\n",
    "\n",
    "# comment plotting because it causes slow execution !!! \n",
    "\n",
    "# we import dataset breast_cancer\n",
    "\n",
    "from sklearn import datasets\n",
    "data_breast_cancer = datasets.load_breast_cancer(as_frame=True) \n",
    "#print(data_breast_cancer['DESCR'])\n",
    "\n",
    "\n",
    "X1 = data_breast_cancer[\"data\"]\n",
    "y1 = data_breast_cancer[\"target\"]\n",
    "\n",
    "\n",
    "\n",
    "\n",
    "\n",
    "# we create second dataset   (df) \n",
    "\n",
    "import numpy as np\n",
    "import pandas as pd\n",
    "size = 300\n",
    "X2 = np.random.rand(size)*5-2.5\n",
    "w4, w3, w2, w1, w0 = 1, 2, 1, -4, 2\n",
    "y2 = w4*(X2**4) + w3*(X2**3) + w2*(X2**2) + w1*X2 + w0 + np.random.randn(size)*8-4 \n",
    "df = pd.DataFrame({'x': X2, 'y': y2})\n",
    "df.plot.scatter(x='x',y='y')\n",
    "\n"
   ]
  },
  {
   "cell_type": "code",
   "execution_count": 2,
   "id": "3992d026-9228-44e6-b413-743cc80ea198",
   "metadata": {},
   "outputs": [],
   "source": [
    "\n",
    "# we dvide breast_cancer dataset on learning and testings sets\n",
    "\n",
    "from sklearn.model_selection import train_test_split\n",
    "\n",
    "X_train1, X_test1, y_train1, y_test1 = train_test_split(X1,y1, test_size=0.20, random_state=42)\n",
    "\n",
    "\n"
   ]
  },
  {
   "cell_type": "code",
   "execution_count": 3,
   "id": "e31c2ecd-c870-46c3-84d6-94d326b55ca9",
   "metadata": {},
   "outputs": [
    {
     "name": "stdout",
     "output_type": "stream",
     "text": [
      "Depth = 1\n",
      "0.9366197183098592\n",
      "0.9130434782608696\n",
      "\n",
      "\n",
      "Depth = 2\n",
      "0.9452054794520547\n",
      "0.9452054794520549\n",
      "\n",
      "\n",
      "Depth = 3\n",
      "0.9826388888888888\n",
      "0.9583333333333334\n",
      "\n",
      "\n",
      "Depth = 4\n",
      "0.9965156794425087\n",
      "0.9577464788732394\n",
      "\n",
      "\n",
      "Depth = 5\n",
      "0.9965156794425087\n",
      "0.9577464788732394\n",
      "\n",
      "\n",
      "Depth = 6\n",
      "0.9982547993019197\n",
      "0.951048951048951\n",
      "\n",
      "\n",
      "Depth = 7\n",
      "1.0\n",
      "0.9577464788732394\n",
      "\n",
      "\n",
      "Depth = 8\n",
      "1.0\n",
      "0.9577464788732394\n",
      "\n",
      "\n",
      "Depth = 9\n",
      "1.0\n",
      "0.9577464788732394\n",
      "\n",
      "\n",
      "[0.9366197183098592, 0.9452054794520547, 0.9826388888888888, 0.9965156794425087, 0.9965156794425087, 0.9982547993019197, 1.0, 1.0, 1.0]\n",
      "[0.9130434782608696, 0.9452054794520549, 0.9583333333333334, 0.9577464788732394, 0.9577464788732394, 0.951048951048951, 0.9577464788732394, 0.9577464788732394, 0.9577464788732394]\n"
     ]
    }
   ],
   "source": [
    "\n",
    "\n",
    "# we are finding the best depth of decision tree in order to maximize f1\n",
    "\n",
    "from sklearn.tree import DecisionTreeClassifier\n",
    "from sklearn.metrics import f1_score\n",
    "\n",
    "\n",
    "# we check for training set and test set\n",
    "\n",
    "\n",
    "# List of values to try for max_depth:\n",
    "max_depth_range = list(range(1, 10))\n",
    "# List to store the accuracy for each value of max_depth:\n",
    "accuracyTrain = []\n",
    "accuracyTest = []\n",
    "\n",
    "\n",
    "\n",
    "\n",
    "for depth in max_depth_range:\n",
    "    \n",
    "    dtc = DecisionTreeClassifier(max_depth = depth, \n",
    "                             random_state = 42)\n",
    "    dtc.fit(X_train1, y_train1)\n",
    "    \n",
    "    y_predictions = dtc.predict(X_train1)\n",
    "    \n",
    "    acc1 = f1_score(y_train1,y_predictions)\n",
    "    \n",
    "    accuracyTrain.append(acc1)\n",
    "    \n",
    "    \n",
    "   \n",
    "    \n",
    "    y_predictions2 = dtc.predict(X_test1)\n",
    "    \n",
    "    acc2 = f1_score(y_test1,y_predictions2)\n",
    "    \n",
    "    accuracyTest.append(acc2)\n",
    "\n",
    "    print(\"Depth = \" + str(depth))\n",
    "    print(acc1)\n",
    "    print(acc2)\n",
    "    print(\"\\n\")\n",
    "    \n",
    "    \n",
    "\n",
    "print(accuracyTrain) # depth 8 is optimal, because later we have the same resuslts\n",
    "print(accuracyTest)\n",
    "\n",
    "foundedDepth = 3\n",
    "\n",
    "\n",
    "\n"
   ]
  },
  {
   "cell_type": "code",
   "execution_count": 4,
   "id": "cfdc8816-4189-4495-8d1e-d7820367b7ac",
   "metadata": {},
   "outputs": [
    {
     "name": "stdout",
     "output_type": "stream",
     "text": [
      "[3, 0.9826388888888888, 0.9583333333333334, 0.978021978021978, 0.9473684210526315]\n"
     ]
    }
   ],
   "source": [
    "# we prepare data to pickle\n",
    "\n",
    "from sklearn.metrics import accuracy_score\n",
    "\n",
    "\n",
    "dtc = DecisionTreeClassifier(max_depth = foundedDepth, \n",
    "                             random_state = 42)\n",
    "dtc.fit(X_train1, y_train1)\n",
    "    \n",
    "y_predictions = dtc.predict(X_train1)\n",
    "    \n",
    "f1Train = f1_score(y_train1,y_predictions)\n",
    "accTrain = accuracy_score(y_train1, y_predictions)\n",
    "\n",
    "y_predictions2 = dtc.predict(X_test1)\n",
    "f1Test = f1_score(y_test1,y_predictions2)\n",
    "accTest = accuracy_score(y_test1, y_predictions2)\n",
    "\n",
    "\n",
    "listToPickle = [foundedDepth,f1Train,f1Test,accTrain,accTest]\n",
    "\n",
    "print(listToPickle)\n",
    "\n"
   ]
  },
  {
   "cell_type": "code",
   "execution_count": 5,
   "id": "840da1e0-49d8-4614-8bd8-dce59cdf518d",
   "metadata": {},
   "outputs": [],
   "source": [
    "# pickling\n",
    "\n",
    "import pickle\n",
    "\n",
    "pickle_out = open(\"f1acc_tree.pkl\",\"wb\")\n",
    "pickle.dump(listToPickle, pickle_out)\n",
    "pickle_out.close()\n",
    "\n"
   ]
  },
  {
   "cell_type": "code",
   "execution_count": null,
   "id": "d443b765-e94f-4709-bd4a-ea35e1ffe63f",
   "metadata": {},
   "outputs": [],
   "source": [
    "\n",
    "\n",
    "\n",
    "\n",
    "\n",
    "\n",
    "\n",
    "\n",
    "\n",
    "\n",
    "\n",
    "\n",
    "\n",
    "\n"
   ]
  },
  {
   "cell_type": "code",
   "execution_count": null,
   "id": "fd5d2764-7225-4804-be3d-ffb08415fe80",
   "metadata": {},
   "outputs": [],
   "source": []
  },
  {
   "cell_type": "code",
   "execution_count": 6,
   "id": "e3e9d3d3-aceb-4689-98b9-d9a1b6b6574a",
   "metadata": {},
   "outputs": [],
   "source": [
    "# we split our second dataset to train set and test set\n",
    "\n",
    "from sklearn.model_selection import train_test_split\n",
    "\n",
    "\n",
    "\n",
    "X_train2, X_test2, y_train2, y_test2 = train_test_split(df[[\"x\"]],df[[\"y\"]], test_size=0.20, random_state=42)\n",
    "\n",
    "\n",
    "\n"
   ]
  },
  {
   "cell_type": "code",
   "execution_count": 7,
   "id": "9744f4b1-78de-4eee-b5fa-6b66a3be1711",
   "metadata": {},
   "outputs": [
    {
     "name": "stdout",
     "output_type": "stream",
     "text": [
      "Depth = 1\n",
      "100.6261094900249\n",
      "111.06581751180495\n",
      "\n",
      "\n",
      "Depth = 2\n",
      "74.35755641516447\n",
      "71.1700633747376\n",
      "\n",
      "\n",
      "Depth = 3\n",
      "66.92024661846973\n",
      "60.176249751307935\n",
      "\n",
      "\n",
      "Depth = 4\n",
      "61.03396333069225\n",
      "59.80194121859012\n",
      "\n",
      "\n",
      "Depth = 5\n",
      "55.13455502274705\n",
      "56.940303487665105\n",
      "\n",
      "\n",
      "Depth = 6\n",
      "49.348778494547226\n",
      "60.086930392238095\n",
      "\n",
      "\n",
      "Depth = 7\n",
      "44.44326929063747\n",
      "59.482883064896896\n",
      "\n",
      "\n",
      "Depth = 8\n",
      "35.96211695738771\n",
      "79.00000323116087\n",
      "\n",
      "\n",
      "Depth = 9\n",
      "27.167217401348942\n",
      "95.45592101636744\n",
      "\n",
      "\n",
      "Depth = 10\n",
      "21.66107784431212\n",
      "101.3034972868858\n",
      "\n",
      "\n",
      "Depth = 11\n",
      "19.027134715044156\n",
      "104.0054271198674\n",
      "\n",
      "\n",
      "Depth = 12\n",
      "14.810280690529988\n",
      "108.16326167754174\n",
      "\n",
      "\n",
      "Depth = 13\n",
      "12.548721116536056\n",
      "105.0989698581247\n",
      "\n",
      "\n",
      "Depth = 14\n",
      "10.18370072423978\n",
      "103.5779091830663\n",
      "\n",
      "\n",
      "[100.6261094900249, 74.35755641516447, 66.92024661846973, 61.03396333069225, 55.13455502274705, 49.348778494547226, 44.44326929063747, 35.96211695738771, 27.167217401348942, 21.66107784431212, 19.027134715044156, 14.810280690529988, 12.548721116536056, 10.18370072423978]\n",
      "[111.06581751180495, 71.1700633747376, 60.176249751307935, 59.80194121859012, 56.940303487665105, 60.086930392238095, 59.482883064896896, 79.00000323116087, 95.45592101636744, 101.3034972868858, 104.0054271198674, 108.16326167754174, 105.0989698581247, 103.5779091830663]\n"
     ]
    }
   ],
   "source": [
    "from sklearn.tree import DecisionTreeRegressor\n",
    "from sklearn.metrics import mean_squared_error\n",
    "\n",
    "# List of values to try for max_depth:\n",
    "max_depth_range2 = list(range(1, 15))\n",
    "# List to store the accuracy for each value of max_depth:\n",
    "accuracyTrain2 = []\n",
    "accuracyTest2 = []\n",
    "\n",
    "\n",
    "\n",
    "\n",
    "for depth in max_depth_range2:\n",
    "    \n",
    "    dtr = DecisionTreeRegressor(max_depth=depth,random_state=42)\n",
    "    dtr.fit(X_train2, y_train2)\n",
    "    \n",
    "    y_predictions = dtr.predict(X_train2)\n",
    "    \n",
    "    acc1 = mean_squared_error(y_train2, y_predictions)\n",
    "    \n",
    "    accuracyTrain2.append(acc1)\n",
    "    \n",
    "    \n",
    "    y_predictions2 = dtr.predict(X_test2)\n",
    "    \n",
    "        \n",
    "    acc2 = mean_squared_error(y_test2, y_predictions2)\n",
    "    \n",
    "    accuracyTest2.append(acc2)\n",
    "\n",
    "    print(\"Depth = \" + str(depth))\n",
    "    print(acc1)\n",
    "    print(acc2)\n",
    "    print(\"\\n\")\n",
    "    \n",
    "    \n",
    "\n",
    "print(accuracyTrain2) # depth 8 is optimal, because later we have the same resuslts\n",
    "print(accuracyTest2)\n",
    "\n",
    "foundedDepthDTR = 5\n",
    "\n"
   ]
  },
  {
   "cell_type": "code",
   "execution_count": 8,
   "id": "c635cb37-c0c6-42b2-bbf9-6a1777ce6977",
   "metadata": {},
   "outputs": [
    {
     "name": "stdout",
     "output_type": "stream",
     "text": [
      "[5, 55.13455502274705, 56.940303487665105]\n"
     ]
    }
   ],
   "source": [
    "dtr = DecisionTreeRegressor(max_depth=foundedDepthDTR,random_state=42)\n",
    "dtr.fit(X_train2, y_train2)\n",
    "\n",
    "y_predictionsDTR = dtr.predict(X_test2)\n",
    "    \n",
    "y_predictionsDTRtrain = dtr.predict(X_train2)\n",
    "    \n",
    "mseDTRtest = mean_squared_error(y_test2, y_predictionsDTR)\n",
    "mseDTRtrain = mean_squared_error(y_train2, y_predictionsDTRtrain)\n",
    "\n",
    "\n",
    "toPickle = [foundedDepthDTR,mseDTRtrain,mseDTRtest]\n",
    "print(toPickle)"
   ]
  },
  {
   "cell_type": "code",
   "execution_count": 9,
   "id": "3e29a3b9-4bf5-4840-b9da-ce0fed181587",
   "metadata": {},
   "outputs": [],
   "source": [
    "# we plot the dataset and predictions of regressor\n",
    "\n",
    "#import matplotlib.pyplot as plt\n",
    "\n",
    "\n",
    "#plt.scatter(X_test2, y_test2)\n",
    "#plt.scatter(X_test2,y_predictionsDTR)\n",
    "#plt.show()"
   ]
  },
  {
   "cell_type": "code",
   "execution_count": null,
   "id": "99eef112-f7da-4db2-9451-3b6c3f547c2d",
   "metadata": {},
   "outputs": [],
   "source": []
  },
  {
   "cell_type": "code",
   "execution_count": 10,
   "id": "d04d9cf5-d70e-4f2d-a8c3-5c5307168b6a",
   "metadata": {},
   "outputs": [],
   "source": [
    "# we pickle \n",
    "\n",
    "import pickle\n",
    "\n",
    "pickle_out = open(\"mse_tree.pkl\",\"wb\")\n",
    "pickle.dump(toPickle, pickle_out)\n",
    "pickle_out.close()\n",
    " "
   ]
  },
  {
   "cell_type": "code",
   "execution_count": 11,
   "id": "8950a6ab-5294-4afe-a41f-c4669db9db20",
   "metadata": {},
   "outputs": [
    {
     "name": "stdout",
     "output_type": "stream",
     "text": [
      "[3, 0.9826388888888888, 0.9583333333333334, 0.978021978021978, 0.9473684210526315]\n",
      "[5, 55.13455502274705, 56.940303487665105]\n"
     ]
    }
   ],
   "source": [
    "# test unpikcling\n",
    "\n",
    "pickle_in = open(\"f1acc_tree.pkl\",\"rb\")\n",
    "list1 = pickle.load(pickle_in)\n",
    "print(list1)\n",
    "\n",
    "\n",
    "pickle_in2 = open(\"mse_tree.pkl\",\"rb\")\n",
    "list2 = pickle.load(pickle_in2)\n",
    "print(list2)\n"
   ]
  },
  {
   "cell_type": "code",
   "execution_count": 12,
   "id": "0e068f4d-1114-4159-80dc-aba9cac7c932",
   "metadata": {},
   "outputs": [
    {
     "name": "stdout",
     "output_type": "stream",
     "text": [
      "dtc.dot\n"
     ]
    }
   ],
   "source": [
    "\n",
    "# we want to display the tree 1\n",
    "\n",
    "from sklearn.tree import export_graphviz\n",
    "\n",
    "f = \"dtc.dot\"\n",
    "\n",
    "export_graphviz(dtc,out_file=f,rounded=True,filled=True) \n",
    "print(f)\n",
    "\n",
    "\n",
    "#import graphviz\n",
    "\n",
    "#graph = graphviz.Source.from_file(f)\n",
    "#graph\n",
    "#str_dot = export_graphviz(dtc,rounded=True,filled=True)\n",
    "\n",
    "\n",
    "#graph = graphviz.Source(str_dot)\n",
    "#graph\n",
    "\n",
    "from subprocess import check_call\n",
    "check_call(['dot','-Tpng','dtc.dot','-o','bc.png'])\n",
    "\n",
    "\n"
   ]
  },
  {
   "cell_type": "code",
   "execution_count": 13,
   "id": "ab723986-6b5d-4b68-961d-14a25d7de593",
   "metadata": {},
   "outputs": [
    {
     "name": "stdout",
     "output_type": "stream",
     "text": [
      "dtc2.dot\n"
     ]
    },
    {
     "ename": "FileNotFoundError",
     "evalue": "[Errno 2] No such file or directory: 'dot'",
     "output_type": "error",
     "traceback": [
      "\u001b[0;31m---------------------------------------------------------------------------\u001b[0m",
      "\u001b[0;31mFileNotFoundError\u001b[0m                         Traceback (most recent call last)",
      "\u001b[0;32m<ipython-input-13-84ccea4577f9>\u001b[0m in \u001b[0;36m<module>\u001b[0;34m\u001b[0m\n\u001b[1;32m     20\u001b[0m \u001b[0;34m\u001b[0m\u001b[0m\n\u001b[1;32m     21\u001b[0m \u001b[0;32mfrom\u001b[0m \u001b[0msubprocess\u001b[0m \u001b[0;32mimport\u001b[0m \u001b[0mcheck_call\u001b[0m\u001b[0;34m\u001b[0m\u001b[0;34m\u001b[0m\u001b[0m\n\u001b[0;32m---> 22\u001b[0;31m \u001b[0mcheck_call\u001b[0m\u001b[0;34m(\u001b[0m\u001b[0;34m[\u001b[0m\u001b[0;34m'dot'\u001b[0m\u001b[0;34m,\u001b[0m\u001b[0;34m'-Tpng'\u001b[0m\u001b[0;34m,\u001b[0m\u001b[0;34m'dtc2.dot'\u001b[0m\u001b[0;34m,\u001b[0m\u001b[0;34m'-o'\u001b[0m\u001b[0;34m,\u001b[0m\u001b[0;34m'reg.png'\u001b[0m\u001b[0;34m]\u001b[0m\u001b[0;34m)\u001b[0m\u001b[0;34m\u001b[0m\u001b[0;34m\u001b[0m\u001b[0m\n\u001b[0m\u001b[1;32m     23\u001b[0m \u001b[0;34m\u001b[0m\u001b[0m\n\u001b[1;32m     24\u001b[0m \u001b[0;34m\u001b[0m\u001b[0m\n",
      "\u001b[0;32m/opt/anaconda3/lib/python3.8/subprocess.py\u001b[0m in \u001b[0;36mcheck_call\u001b[0;34m(*popenargs, **kwargs)\u001b[0m\n\u001b[1;32m    357\u001b[0m     \u001b[0mcheck_call\u001b[0m\u001b[0;34m(\u001b[0m\u001b[0;34m[\u001b[0m\u001b[0;34m\"ls\"\u001b[0m\u001b[0;34m,\u001b[0m \u001b[0;34m\"-l\"\u001b[0m\u001b[0;34m]\u001b[0m\u001b[0;34m)\u001b[0m\u001b[0;34m\u001b[0m\u001b[0;34m\u001b[0m\u001b[0m\n\u001b[1;32m    358\u001b[0m     \"\"\"\n\u001b[0;32m--> 359\u001b[0;31m     \u001b[0mretcode\u001b[0m \u001b[0;34m=\u001b[0m \u001b[0mcall\u001b[0m\u001b[0;34m(\u001b[0m\u001b[0;34m*\u001b[0m\u001b[0mpopenargs\u001b[0m\u001b[0;34m,\u001b[0m \u001b[0;34m**\u001b[0m\u001b[0mkwargs\u001b[0m\u001b[0;34m)\u001b[0m\u001b[0;34m\u001b[0m\u001b[0;34m\u001b[0m\u001b[0m\n\u001b[0m\u001b[1;32m    360\u001b[0m     \u001b[0;32mif\u001b[0m \u001b[0mretcode\u001b[0m\u001b[0;34m:\u001b[0m\u001b[0;34m\u001b[0m\u001b[0;34m\u001b[0m\u001b[0m\n\u001b[1;32m    361\u001b[0m         \u001b[0mcmd\u001b[0m \u001b[0;34m=\u001b[0m \u001b[0mkwargs\u001b[0m\u001b[0;34m.\u001b[0m\u001b[0mget\u001b[0m\u001b[0;34m(\u001b[0m\u001b[0;34m\"args\"\u001b[0m\u001b[0;34m)\u001b[0m\u001b[0;34m\u001b[0m\u001b[0;34m\u001b[0m\u001b[0m\n",
      "\u001b[0;32m/opt/anaconda3/lib/python3.8/subprocess.py\u001b[0m in \u001b[0;36mcall\u001b[0;34m(timeout, *popenargs, **kwargs)\u001b[0m\n\u001b[1;32m    338\u001b[0m     \u001b[0mretcode\u001b[0m \u001b[0;34m=\u001b[0m \u001b[0mcall\u001b[0m\u001b[0;34m(\u001b[0m\u001b[0;34m[\u001b[0m\u001b[0;34m\"ls\"\u001b[0m\u001b[0;34m,\u001b[0m \u001b[0;34m\"-l\"\u001b[0m\u001b[0;34m]\u001b[0m\u001b[0;34m)\u001b[0m\u001b[0;34m\u001b[0m\u001b[0;34m\u001b[0m\u001b[0m\n\u001b[1;32m    339\u001b[0m     \"\"\"\n\u001b[0;32m--> 340\u001b[0;31m     \u001b[0;32mwith\u001b[0m \u001b[0mPopen\u001b[0m\u001b[0;34m(\u001b[0m\u001b[0;34m*\u001b[0m\u001b[0mpopenargs\u001b[0m\u001b[0;34m,\u001b[0m \u001b[0;34m**\u001b[0m\u001b[0mkwargs\u001b[0m\u001b[0;34m)\u001b[0m \u001b[0;32mas\u001b[0m \u001b[0mp\u001b[0m\u001b[0;34m:\u001b[0m\u001b[0;34m\u001b[0m\u001b[0;34m\u001b[0m\u001b[0m\n\u001b[0m\u001b[1;32m    341\u001b[0m         \u001b[0;32mtry\u001b[0m\u001b[0;34m:\u001b[0m\u001b[0;34m\u001b[0m\u001b[0;34m\u001b[0m\u001b[0m\n\u001b[1;32m    342\u001b[0m             \u001b[0;32mreturn\u001b[0m \u001b[0mp\u001b[0m\u001b[0;34m.\u001b[0m\u001b[0mwait\u001b[0m\u001b[0;34m(\u001b[0m\u001b[0mtimeout\u001b[0m\u001b[0;34m=\u001b[0m\u001b[0mtimeout\u001b[0m\u001b[0;34m)\u001b[0m\u001b[0;34m\u001b[0m\u001b[0;34m\u001b[0m\u001b[0m\n",
      "\u001b[0;32m/opt/anaconda3/lib/python3.8/subprocess.py\u001b[0m in \u001b[0;36m__init__\u001b[0;34m(self, args, bufsize, executable, stdin, stdout, stderr, preexec_fn, close_fds, shell, cwd, env, universal_newlines, startupinfo, creationflags, restore_signals, start_new_session, pass_fds, encoding, errors, text)\u001b[0m\n\u001b[1;32m    856\u001b[0m                             encoding=encoding, errors=errors)\n\u001b[1;32m    857\u001b[0m \u001b[0;34m\u001b[0m\u001b[0m\n\u001b[0;32m--> 858\u001b[0;31m             self._execute_child(args, executable, preexec_fn, close_fds,\n\u001b[0m\u001b[1;32m    859\u001b[0m                                 \u001b[0mpass_fds\u001b[0m\u001b[0;34m,\u001b[0m \u001b[0mcwd\u001b[0m\u001b[0;34m,\u001b[0m \u001b[0menv\u001b[0m\u001b[0;34m,\u001b[0m\u001b[0;34m\u001b[0m\u001b[0;34m\u001b[0m\u001b[0m\n\u001b[1;32m    860\u001b[0m                                 \u001b[0mstartupinfo\u001b[0m\u001b[0;34m,\u001b[0m \u001b[0mcreationflags\u001b[0m\u001b[0;34m,\u001b[0m \u001b[0mshell\u001b[0m\u001b[0;34m,\u001b[0m\u001b[0;34m\u001b[0m\u001b[0;34m\u001b[0m\u001b[0m\n",
      "\u001b[0;32m/opt/anaconda3/lib/python3.8/subprocess.py\u001b[0m in \u001b[0;36m_execute_child\u001b[0;34m(self, args, executable, preexec_fn, close_fds, pass_fds, cwd, env, startupinfo, creationflags, shell, p2cread, p2cwrite, c2pread, c2pwrite, errread, errwrite, restore_signals, start_new_session)\u001b[0m\n\u001b[1;32m   1704\u001b[0m                     \u001b[0;32mif\u001b[0m \u001b[0merrno_num\u001b[0m \u001b[0;34m!=\u001b[0m \u001b[0;36m0\u001b[0m\u001b[0;34m:\u001b[0m\u001b[0;34m\u001b[0m\u001b[0;34m\u001b[0m\u001b[0m\n\u001b[1;32m   1705\u001b[0m                         \u001b[0merr_msg\u001b[0m \u001b[0;34m=\u001b[0m \u001b[0mos\u001b[0m\u001b[0;34m.\u001b[0m\u001b[0mstrerror\u001b[0m\u001b[0;34m(\u001b[0m\u001b[0merrno_num\u001b[0m\u001b[0;34m)\u001b[0m\u001b[0;34m\u001b[0m\u001b[0;34m\u001b[0m\u001b[0m\n\u001b[0;32m-> 1706\u001b[0;31m                     \u001b[0;32mraise\u001b[0m \u001b[0mchild_exception_type\u001b[0m\u001b[0;34m(\u001b[0m\u001b[0merrno_num\u001b[0m\u001b[0;34m,\u001b[0m \u001b[0merr_msg\u001b[0m\u001b[0;34m,\u001b[0m \u001b[0merr_filename\u001b[0m\u001b[0;34m)\u001b[0m\u001b[0;34m\u001b[0m\u001b[0;34m\u001b[0m\u001b[0m\n\u001b[0m\u001b[1;32m   1707\u001b[0m                 \u001b[0;32mraise\u001b[0m \u001b[0mchild_exception_type\u001b[0m\u001b[0;34m(\u001b[0m\u001b[0merr_msg\u001b[0m\u001b[0;34m)\u001b[0m\u001b[0;34m\u001b[0m\u001b[0;34m\u001b[0m\u001b[0m\n\u001b[1;32m   1708\u001b[0m \u001b[0;34m\u001b[0m\u001b[0m\n",
      "\u001b[0;31mFileNotFoundError\u001b[0m: [Errno 2] No such file or directory: 'dot'"
     ]
    }
   ],
   "source": [
    "\n",
    "\n",
    "# we want to display the tree 2\n",
    "\n",
    "from sklearn.tree import export_graphviz\n",
    "\n",
    "f2 = \"dtc2.dot\"\n",
    "\n",
    "export_graphviz(dtr,out_file=f2,rounded=True,filled=True) \n",
    "print(f2)\n",
    "\n",
    "\n",
    "\n",
    "#import graphviz\n",
    "\n",
    "#graph = graphviz.Source.from_file(f2)\n",
    "#graph\n",
    "#str_dot = export_graphviz(dtr,rounded=True,filled=True)\n",
    "\n",
    "#graph = graphviz.Source(str_dot)\n",
    "#graph\n",
    "\n",
    "from subprocess import check_call\n",
    "check_call(['dot','-Tpng','dtc2.dot','-o','reg.png'])\n",
    "\n",
    "\n"
   ]
  }
 ],
 "metadata": {
  "kernelspec": {
   "display_name": "Python 3",
   "language": "python",
   "name": "python3"
  },
  "language_info": {
   "codemirror_mode": {
    "name": "ipython",
    "version": 3
   },
   "file_extension": ".py",
   "mimetype": "text/x-python",
   "name": "python",
   "nbconvert_exporter": "python",
   "pygments_lexer": "ipython3",
   "version": "3.8.8"
  }
 },
 "nbformat": 4,
 "nbformat_minor": 5
}
