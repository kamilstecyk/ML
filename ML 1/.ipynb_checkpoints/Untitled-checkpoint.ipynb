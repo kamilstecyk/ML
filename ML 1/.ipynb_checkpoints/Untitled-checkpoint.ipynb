{
 "cells": [
  {
   "cell_type": "code",
   "execution_count": 5,
   "id": "20ebea07-3011-4b3b-9226-779734650e69",
   "metadata": {},
   "outputs": [
    {
     "name": "stdout",
     "output_type": "stream",
     "text": [
      "/Users/kamilstecyk/Desktop/ML 1\n",
      "Directory  ourdata  Created \n",
      "/Users/kamilstecyk/Desktop/ML 1\n",
      "/Users/kamilstecyk/Desktop/ML 1\n"
     ]
    }
   ],
   "source": [
    "import requests\n",
    "import os\n",
    "import tarfile\n",
    "from pathlib import Path\n",
    "import gzip\n",
    "\n",
    "ROOT_DIR = os.path.abspath(os.curdir)\n",
    "\n",
    "def tardir(path, tar_name):\n",
    "    with tarfile.open(tar_name, \"w:gz\") as tar_handle:\n",
    "        for root, dirs, files in os.walk(path):\n",
    "            for file in files:\n",
    "                tar_handle.add(os.path.join(root, file))\n",
    "\n",
    "# save old cwd\n",
    "\n",
    "owd = os.getcwd()\n",
    "                \n",
    "#downloading\n",
    "                \n",
    "url = 'https://raw.githubusercontent.com/ageron/handson-ml2/master/datasets/housing/housing.tgz'\n",
    "r = requests.get(url, allow_redirects=True)\n",
    "\n",
    "\n",
    "\n",
    "print(os.getcwd())\n",
    "\n",
    "exist = False\n",
    "\n",
    "# Create directory\n",
    "dirName = 'ourdata'\n",
    "try:\n",
    "    # Create target Directory\n",
    "    os.mkdir(dirName)\n",
    "    print(\"Directory \" , dirName ,  \" Created \") \n",
    "    # change root \n",
    "\n",
    "    print(os.getcwd())\n",
    "\n",
    "    # change current working directory\n",
    "\n",
    "    os.chdir('ourdata')\n",
    "    \n",
    "    exist = True\n",
    "    \n",
    "except FileExistsError:\n",
    "    print(\"Directory \" , dirName ,  \" already exists\")\n",
    "\n",
    "    \n",
    "\n",
    "if exist == True: \n",
    "    #saving\n",
    "\n",
    "    open('housing.tgz', 'wb').write(r.content)\n",
    "\n",
    "\n",
    "    # open tar and extract\n",
    "\n",
    "    file = tarfile.open('housing.tgz')\n",
    "    file.extractall('')\n",
    "    file.close()\n",
    "\n",
    "    # gzip our csv\n",
    "    \n",
    "    f_in = open('housing.csv')\n",
    "    f_out = gzip.open('housing.csv.gz', 'wb')\n",
    "    f_out.writelines(f_in)\n",
    "    f_out.close()\n",
    "    f_in.close()\n",
    "\n",
    "    # remove tar \n",
    "    \n",
    "    os.remove('housing.tgz')\n",
    "\n",
    "    # we back to beginning cwd \n",
    "\n",
    "    os.chdir(owd)\n",
    "\n",
    "print(os.getcwd())\n",
    "\n",
    "\n",
    "\n"
   ]
  },
  {
   "cell_type": "code",
   "execution_count": null,
   "id": "af484efb-8b09-4478-ba1b-9fc3409bfc7b",
   "metadata": {},
   "outputs": [],
   "source": []
  },
  {
   "cell_type": "code",
   "execution_count": null,
   "id": "bd3ab899-03c5-43db-bec8-5669342c5fb1",
   "metadata": {},
   "outputs": [],
   "source": []
  },
  {
   "cell_type": "code",
   "execution_count": null,
   "id": "9667d2c5-b16e-4632-be6f-0a90ea921cef",
   "metadata": {},
   "outputs": [],
   "source": []
  },
  {
   "cell_type": "code",
   "execution_count": null,
   "id": "e0bfc47a-566f-48be-a9a9-eb18a0b5ea5c",
   "metadata": {},
   "outputs": [],
   "source": []
  },
  {
   "cell_type": "code",
   "execution_count": null,
   "id": "5fd8c701-35ef-4b55-be38-885ebdff3dc4",
   "metadata": {},
   "outputs": [],
   "source": []
  },
  {
   "cell_type": "code",
   "execution_count": null,
   "id": "8c09ad19-9983-468b-a444-990101ce6ec1",
   "metadata": {},
   "outputs": [],
   "source": []
  },
  {
   "cell_type": "code",
   "execution_count": null,
   "id": "20f6f597-ef18-4366-aa3c-c3c7cb5b7261",
   "metadata": {},
   "outputs": [],
   "source": []
  },
  {
   "cell_type": "code",
   "execution_count": null,
   "id": "4d6d7994-4edf-44da-ab85-238943742ff0",
   "metadata": {},
   "outputs": [],
   "source": []
  },
  {
   "cell_type": "code",
   "execution_count": null,
   "id": "71201036-c9e8-4982-bca3-401cb7c77fa7",
   "metadata": {},
   "outputs": [],
   "source": []
  }
 ],
 "metadata": {
  "kernelspec": {
   "display_name": "Python 3",
   "language": "python",
   "name": "python3"
  },
  "language_info": {
   "codemirror_mode": {
    "name": "ipython",
    "version": 3
   },
   "file_extension": ".py",
   "mimetype": "text/x-python",
   "name": "python",
   "nbconvert_exporter": "python",
   "pygments_lexer": "ipython3",
   "version": "3.8.8"
  }
 },
 "nbformat": 4,
 "nbformat_minor": 5
}
