{
 "cells": [
  {
   "cell_type": "code",
   "execution_count": 1,
   "id": "65115c9f-5f3d-44d1-a76b-9b5b4a84c42f",
   "metadata": {},
   "outputs": [],
   "source": [
    "\n",
    "\n",
    "import numpy as np\n",
    "from sklearn.datasets import fetch_openml \n",
    " \n",
    "mnist = fetch_openml('mnist_784', version=1)\n",
    "\n",
    "\n",
    "\n",
    "\n",
    "\n"
   ]
  },
  {
   "cell_type": "code",
   "execution_count": 2,
   "id": "cc306047-3f09-498a-a4bf-524945f75aa3",
   "metadata": {},
   "outputs": [
    {
     "name": "stdout",
     "output_type": "stream",
     "text": [
      "[[0 0 0 0 0 0 0 0 0 0 0 0 0 0 0 0 0 0 0 0 0 0 0 0 0 0 0 0]\n",
      " [0 0 0 0 0 0 0 0 0 0 0 0 0 0 0 0 0 0 0 0 0 0 0 0 0 0 0 0]\n",
      " [0 0 0 0 0 0 0 0 0 0 0 0 0 0 0 0 0 0 0 0 0 0 0 0 0 0 0 0]\n",
      " [0 0 0 0 0 0 0 0 0 0 0 0 0 0 0 0 0 0 0 0 0 0 0 0 0 0 0 0]\n",
      " [0 0 0 0 0 0 0 0 0 0 1 1 1 1 1 1 1 1 0 0 0 0 0 0 0 0 0 0]\n",
      " [0 0 0 0 0 0 0 0 1 1 1 1 1 1 1 1 1 1 0 0 0 0 0 0 0 0 0 0]\n",
      " [0 0 0 0 0 0 0 0 1 1 1 1 1 1 1 1 1 1 0 0 0 0 0 0 0 0 0 0]\n",
      " [0 0 0 0 0 0 0 0 1 0 0 0 0 0 0 0 1 1 1 0 0 0 0 0 0 0 0 0]\n",
      " [0 0 0 0 0 0 0 0 0 0 0 0 0 0 0 1 1 1 1 0 0 0 0 0 0 0 0 0]\n",
      " [0 0 0 0 0 0 0 0 0 0 0 0 0 0 1 1 1 1 0 0 0 0 0 0 0 0 0 0]\n",
      " [0 0 0 0 0 0 0 0 0 0 0 0 0 1 1 1 1 0 0 0 0 0 0 0 0 0 0 0]\n",
      " [0 0 0 0 0 0 0 0 0 0 0 1 1 1 1 1 1 1 1 0 0 0 0 0 0 0 0 0]\n",
      " [0 0 0 0 0 0 0 0 0 0 1 1 1 1 1 1 1 1 1 0 0 0 0 0 0 0 0 0]\n",
      " [0 0 0 0 0 0 0 0 0 0 1 1 1 1 1 1 1 1 1 1 0 0 0 0 0 0 0 0]\n",
      " [0 0 0 0 0 0 0 0 0 0 0 0 0 0 0 0 0 0 1 1 0 0 0 0 0 0 0 0]\n",
      " [0 0 0 0 0 0 0 0 0 0 0 0 0 0 0 0 0 0 1 1 0 0 0 0 0 0 0 0]\n",
      " [0 0 0 0 0 0 0 0 0 0 0 0 0 0 0 0 0 0 1 1 1 0 0 0 0 0 0 0]\n",
      " [0 0 0 0 0 0 0 0 0 0 0 0 0 0 0 0 0 0 1 1 0 0 0 0 0 0 0 0]\n",
      " [0 0 0 0 0 0 0 0 0 0 0 0 0 0 0 0 0 0 1 1 0 0 0 0 0 0 0 0]\n",
      " [0 0 0 0 0 0 0 1 1 1 0 0 0 0 0 0 1 1 1 1 0 0 0 0 0 0 0 0]\n",
      " [0 0 0 0 0 0 0 1 1 1 1 0 0 0 0 1 1 1 1 1 0 0 0 0 0 0 0 0]\n",
      " [0 0 0 0 0 0 0 1 1 1 1 1 1 1 1 1 1 1 1 0 0 0 0 0 0 0 0 0]\n",
      " [0 0 0 0 0 0 0 0 1 1 1 1 1 1 1 1 1 1 0 0 0 0 0 0 0 0 0 0]\n",
      " [0 0 0 0 0 0 0 0 0 1 1 1 1 1 1 1 1 0 0 0 0 0 0 0 0 0 0 0]\n",
      " [0 0 0 0 0 0 0 0 0 0 0 0 0 0 0 0 0 0 0 0 0 0 0 0 0 0 0 0]\n",
      " [0 0 0 0 0 0 0 0 0 0 0 0 0 0 0 0 0 0 0 0 0 0 0 0 0 0 0 0]\n",
      " [0 0 0 0 0 0 0 0 0 0 0 0 0 0 0 0 0 0 0 0 0 0 0 0 0 0 0 0]\n",
      " [0 0 0 0 0 0 0 0 0 0 0 0 0 0 0 0 0 0 0 0 0 0 0 0 0 0 0 0]]\n",
      "(56000, 784) (56000, 1)\n",
      "(14000, 784) (14000, 1)\n"
     ]
    },
    {
     "data": {
      "text/plain": [
       "['8', '4', '7', '0', '6', '2', '3', '9', '5', '1']\n",
       "Categories (10, object): ['8', '4', '7', '0', ..., '3', '9', '5', '1']"
      ]
     },
     "execution_count": 2,
     "metadata": {},
     "output_type": "execute_result"
    }
   ],
   "source": [
    "\n",
    "print((np.array(mnist.data.loc[50]).reshape(28, 28) > 0).astype(int))\n",
    "    \n",
    "mnist.target\n",
    "\n",
    "\n",
    "\n",
    "\n",
    "\n",
    "import pandas as pd  \n",
    "\n",
    "# we create dataframes for features and labels\n",
    "\n",
    "dfFeatures = pd.DataFrame(mnist.data)\n",
    "dfLabels = pd.DataFrame(mnist.target)\n",
    "\n",
    "\n",
    "#sorting labeels ascending\n",
    "\n",
    "y = dfLabels.sort_values(\"class\")\n",
    "\n",
    "# reindexing feature df\n",
    "\n",
    "\n",
    "\n",
    "indexes = y.index\n",
    "\n",
    "\"\"\"for i in indexes:\n",
    "    print(i)\"\"\"\n",
    "    \n",
    "    \n",
    "X = dfFeatures.reindex(indexes)\n",
    "\n",
    "\n",
    "\n",
    "# we have x (features) and y (labels)  \n",
    "\n",
    "\n",
    "\n",
    "\n",
    "\n",
    "# we split our datasets\n",
    "\n",
    "X_train, X_test = X[:56000], X[56000:]\n",
    "y_train, y_test = y[:56000], y[56000:]\n",
    "print(X_train.shape, y_train.shape)\n",
    "print(X_test.shape, y_test.shape)\n",
    "\n",
    "\n",
    "# checking classes\n",
    "\n",
    "y_train[\"class\"].unique()\n",
    "\n",
    "\n",
    "\n",
    "\n",
    "\n",
    "y_test['class'].unique()\n",
    "\n",
    "\n",
    "\n",
    "\n",
    "\n",
    "# we divide our data with scikit-learn function\n",
    "\n",
    "import numpy as np\n",
    "from sklearn.model_selection import train_test_split\n",
    "\n",
    "X_train, X_test, y_train, y_test = train_test_split( dfFeatures, dfLabels, test_size=0.20, random_state=42)\n",
    "\n",
    "\n",
    "# we check classes as in previous\n",
    "y_train[\"class\"].unique()\n",
    "y_test[\"class\"].unique()\n",
    "\n",
    "\n",
    "\n",
    "\n",
    "\n",
    "\n",
    "\n"
   ]
  },
  {
   "cell_type": "code",
   "execution_count": 3,
   "id": "35f4b5a5-1462-4376-8c87-9619a4db36bd",
   "metadata": {},
   "outputs": [],
   "source": [
    "#print(np.unique(y_train_0))"
   ]
  },
  {
   "cell_type": "code",
   "execution_count": 4,
   "id": "a9a3dde3-14b3-41ca-99ed-213322157346",
   "metadata": {},
   "outputs": [
    {
     "data": {
      "text/plain": [
       "SGDClassifier(random_state=42)"
      ]
     },
     "execution_count": 4,
     "metadata": {},
     "output_type": "execute_result"
    }
   ],
   "source": [
    "# learning\n",
    "\n",
    "from sklearn.linear_model import SGDClassifier\n",
    "\n",
    "#print((y_train[\"class\"] == 0))\n",
    "\n",
    "y_train_0 = (y_train[\"class\"] == \"0\")\n",
    "y_test_0 = (y_test[\"class\"] == \"0\")\n",
    "\n",
    "\n",
    "#print(y_train_0)\n",
    "#print(len(y_train_0))\n",
    "\n",
    "\n",
    "# we use sgd to classify 0\n",
    "\n",
    "sgd_clf = SGDClassifier(random_state=42) \n",
    "sgd_clf.fit(X_train,y_train_0)\n",
    "\n",
    "\n",
    "\n",
    "\n"
   ]
  },
  {
   "cell_type": "code",
   "execution_count": 5,
   "id": "16546582-7dba-4593-8fe3-d8720d83e9cd",
   "metadata": {},
   "outputs": [],
   "source": [
    "# accuracy\n",
    "\n",
    "from sklearn.metrics import precision_score\n",
    "\n",
    "y_train_pred = sgd_clf.predict(X_train)\n",
    "y_test_pred = sgd_clf.predict(X_test)\n",
    "\n",
    "result1 = precision_score(y_train_0, y_train_pred)"
   ]
  },
  {
   "cell_type": "code",
   "execution_count": 6,
   "id": "1ad8d3ab-8c23-4422-8211-6a9a620b5915",
   "metadata": {},
   "outputs": [],
   "source": [
    "result2 = precision_score(y_test_0 , y_test_pred)"
   ]
  },
  {
   "cell_type": "code",
   "execution_count": 7,
   "id": "bc6bcaca-c041-40df-93f6-42a917ec5026",
   "metadata": {},
   "outputs": [
    {
     "name": "stdout",
     "output_type": "stream",
     "text": [
      "[0.9708487084870848, 0.9674922600619195]\n"
     ]
    }
   ],
   "source": [
    "resultArray = [result1,result2]\n",
    "print(resultArray)\n"
   ]
  },
  {
   "cell_type": "code",
   "execution_count": 8,
   "id": "48b22936-2729-4c7b-8582-35045ccadd0a",
   "metadata": {},
   "outputs": [],
   "source": [
    "# we pickle our accuracy \n",
    "\n",
    "import pickle\n",
    "\n",
    "pickling_on = open(\"sgd_acc.pkl\",\"wb\")\n",
    "pickle.dump(resultArray, pickling_on)\n",
    "pickling_on.close()\n",
    "\n",
    "\n"
   ]
  },
  {
   "cell_type": "code",
   "execution_count": 9,
   "id": "e0930f6d-2666-48c3-856b-b64cd26eea45",
   "metadata": {},
   "outputs": [
    {
     "data": {
      "text/plain": [
       "'\"\\npickle_off = open(\"sgd_acc.pkl\", \\'rb\\')\\ndata = pickle.load(pickle_off)\\nprint(data)   '"
      ]
     },
     "execution_count": 9,
     "metadata": {},
     "output_type": "execute_result"
    }
   ],
   "source": [
    "# test for unpickling\n",
    "\"\"\"\"\n",
    "pickle_off = open(\"sgd_acc.pkl\", 'rb')\n",
    "data = pickle.load(pickle_off)\n",
    "print(data)   \"\"\" "
   ]
  },
  {
   "cell_type": "code",
   "execution_count": 10,
   "id": "7d1b153f-8819-401d-9691-16a20849163c",
   "metadata": {},
   "outputs": [],
   "source": [
    "# validation\n",
    "\n",
    "from array import array\n",
    "from sklearn.model_selection import cross_val_score\n",
    "\n",
    "score = cross_val_score(sgd_clf, X_train, y_train_0, cv=3, scoring=\"accuracy\", n_jobs=-1)\n",
    "\n",
    "# pickling\n",
    "\n",
    "pickling_on = open(\"sgd_cva.pkl\",\"wb\")\n",
    "pickle.dump(score, pickling_on)\n",
    "pickling_on.close()"
   ]
  },
  {
   "cell_type": "code",
   "execution_count": 11,
   "id": "85a4a95f-90e9-4bfd-af5c-5d0b4b052e4d",
   "metadata": {},
   "outputs": [
    {
     "data": {
      "text/plain": [
       "'\"\\npickle_off = open(\"sgd_cva.pkl\", \\'rb\\')\\ndata = pickle.load(pickle_off)\\nprint(data)'"
      ]
     },
     "execution_count": 11,
     "metadata": {},
     "output_type": "execute_result"
    }
   ],
   "source": [
    "# test for unpickling\n",
    "\"\"\"\"\n",
    "pickle_off = open(\"sgd_cva.pkl\", 'rb')\n",
    "data = pickle.load(pickle_off)\n",
    "print(data)\"\"\""
   ]
  },
  {
   "cell_type": "code",
   "execution_count": 12,
   "id": "0500a825-d008-4b9b-978b-a10c6458248f",
   "metadata": {},
   "outputs": [
    {
     "name": "stderr",
     "output_type": "stream",
     "text": [
      "/opt/anaconda3/lib/python3.8/site-packages/sklearn/utils/validation.py:63: DataConversionWarning: A column-vector y was passed when a 1d array was expected. Please change the shape of y to (n_samples, ), for example using ravel().\n",
      "  return f(*args, **kwargs)\n"
     ]
    },
    {
     "data": {
      "text/plain": [
       "SGDClassifier(n_jobs=-1, random_state=42)"
      ]
     },
     "execution_count": 12,
     "metadata": {},
     "output_type": "execute_result"
    }
   ],
   "source": [
    "# we use sgd to classify all digits\n",
    "\n",
    "sgd_m_clf = SGDClassifier(random_state=42,n_jobs=-1)\n",
    "sgd_m_clf.fit(X_train, y_train)\n",
    "\n",
    "\n",
    "\n"
   ]
  },
  {
   "cell_type": "code",
   "execution_count": null,
   "id": "c3493ecd-a02d-4684-af61-c0703dc25932",
   "metadata": {},
   "outputs": [],
   "source": []
  },
  {
   "cell_type": "code",
   "execution_count": 13,
   "id": "02bf76f0-db10-4484-bc00-e061f3cf6b18",
   "metadata": {},
   "outputs": [
    {
     "name": "stdout",
     "output_type": "stream",
     "text": [
      "[[5193    2   71   17   10   34   46    4  155   28]\n",
      " [   3 6121   49    9   14   17   20    8   30    6]\n",
      " [  42  109 4896  113   68   21   93   86  163   19]\n",
      " [  37   44  361 4312   26  497   28   86  224   93]\n",
      " [  15   31   49    2 5123    8   39   38   88  136]\n",
      " [  57   35   65  173  111 4069  127   36  298   69]\n",
      " [  56   33  204    3   66  122 4925    4   66    1]\n",
      " [  24   48   77   18  133   11    3 5225   44  207]\n",
      " [  47  216  705  130  133  446   77   68 3435  211]\n",
      " [  25   49   28   58  606   89    0  320  107 4256]]\n"
     ]
    }
   ],
   "source": [
    "# we create confusion matrix\n",
    "from sklearn.metrics import confusion_matrix\n",
    "from sklearn.model_selection import cross_val_predict\n",
    "\n",
    "y_train_pred = cross_val_predict(sgd_m_clf, X_train, y_train, cv=3, n_jobs=-1)\n",
    "\n",
    "conf_mx = confusion_matrix(y_train, y_train_pred)\n",
    "\n",
    "#print(conf_mx)\n",
    "\n",
    "\n",
    "\n",
    "\n"
   ]
  },
  {
   "cell_type": "code",
   "execution_count": 14,
   "id": "31bd7e70-e192-4dc7-950b-2f66af873944",
   "metadata": {},
   "outputs": [],
   "source": [
    "# we pickle confusion matrix\n",
    "\n",
    "pickling_on = open(\"sgd_cmx.pkl\",\"wb\")\n",
    "pickle.dump(conf_mx, pickling_on)\n",
    "pickling_on.close()\n"
   ]
  },
  {
   "cell_type": "code",
   "execution_count": 15,
   "id": "431f1066-4b95-4431-b39b-f0017f5d4069",
   "metadata": {},
   "outputs": [
    {
     "data": {
      "text/plain": [
       "'\"\\npickle_off = open(\"sgd_cmx.pkl\", \\'rb\\')\\ndata = pickle.load(pickle_off)\\nprint(data)'"
      ]
     },
     "execution_count": 15,
     "metadata": {},
     "output_type": "execute_result"
    }
   ],
   "source": [
    "# test for unpickling\n",
    "\"\"\"\"\n",
    "pickle_off = open(\"sgd_cmx.pkl\", 'rb')\n",
    "data = pickle.load(pickle_off)\n",
    "print(data)\"\"\""
   ]
  },
  {
   "cell_type": "code",
   "execution_count": null,
   "id": "b7bd6c4f-60a4-4f77-b8c0-d6d1f6d4de1d",
   "metadata": {},
   "outputs": [],
   "source": []
  }
 ],
 "metadata": {
  "kernelspec": {
   "display_name": "Python 3",
   "language": "python",
   "name": "python3"
  },
  "language_info": {
   "codemirror_mode": {
    "name": "ipython",
    "version": 3
   },
   "file_extension": ".py",
   "mimetype": "text/x-python",
   "name": "python",
   "nbconvert_exporter": "python",
   "pygments_lexer": "ipython3",
   "version": "3.8.8"
  }
 },
 "nbformat": 4,
 "nbformat_minor": 5
}
