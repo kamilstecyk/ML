{
 "cells": [
  {
   "cell_type": "code",
   "execution_count": 1,
   "id": "ea008b98-cf49-4ff9-9eb2-a606dd3766f6",
   "metadata": {},
   "outputs": [
    {
     "data": {
      "text/plain": [
       "<AxesSubplot:xlabel='petal length (cm)', ylabel='petal width (cm)'>"
      ]
     },
     "execution_count": 1,
     "metadata": {},
     "output_type": "execute_result"
    },
    {
     "data": {
      "image/png": "[encoded data removed]",
      "text/plain": [
       "<Figure size 432x288 with 2 Axes>"
      ]
     },
     "metadata": {
      "needs_background": "light"
     },
     "output_type": "display_data"
    }
   ],
   "source": [
    "# we load the data\n",
    "\n",
    "from sklearn.datasets import load_iris \n",
    "import pandas as pd\n",
    "import numpy as np\n",
    "\n",
    "\n",
    "iris = load_iris(as_frame=True)\n",
    "X = iris.data.iloc[:,[2,3]]\n",
    "y =  iris.target.astype(int)\n",
    "\n",
    "pd.concat([iris.data, iris.target], axis=1).plot.scatter(x='petal length (cm)',y='petal width (cm)',c='target',colormap='viridis')"
   ]
  },
  {
   "cell_type": "code",
   "execution_count": 2,
   "id": "849b3afe-c461-4eaa-85d0-1e13ce4d0fd1",
   "metadata": {},
   "outputs": [],
   "source": [
    "# we divide data to train and test sets\n",
    "\n",
    "from sklearn.model_selection import train_test_split\n",
    "\n",
    "X_train, X_test, y_train, y_test = train_test_split(X, y, test_size=0.20, random_state=42)\n",
    "\n"
   ]
  },
  {
   "cell_type": "code",
   "execution_count": 3,
   "id": "6b9b4ac9-f957-4b1d-97fb-5aea4e663535",
   "metadata": {},
   "outputs": [
    {
     "name": "stdout",
     "output_type": "stream",
     "text": [
      "[(1.0, 1.0), (0.6416666666666667, 0.7), (0.85, 0.8666666666666667)]\n",
      "[(4.0, -1.4999999999999993, -1.6999999999999997), (-9.0, 6.800000000000028, -16.099999999999973), (-37.0, 1.8999999999999861, 21.499999999999993)]\n"
     ]
    }
   ],
   "source": [
    "# we implement perceptrons \n",
    "\n",
    "from sklearn.linear_model import Perceptron\n",
    "from sklearn.metrics import accuracy_score\n",
    "\n",
    "\n",
    "listAcc = list()\n",
    "listWeighths = list()\n",
    "\n",
    "for i in range(0,3):\n",
    "\n",
    "    # first class\n",
    "\n",
    "    y1Train = (y_train == i).astype(int)\n",
    "    y1Test = (y_test == i).astype(int)\n",
    "\n",
    "    per1_clf = Perceptron()\n",
    "    per1_clf.fit(X_train,y1Train)\n",
    "\n",
    "    # predictions and accuracy on training set\n",
    "\n",
    "    y_pred_train = per1_clf.predict(X_train)\n",
    "    accTrain1 = accuracy_score(y1Train, y_pred_train)\n",
    "\n",
    "    # predictions and accuracy on test set\n",
    "\n",
    "    y_pred_test = per1_clf.predict(X_test)\n",
    "    accTest1 = accuracy_score(y1Test, y_pred_test)\n",
    "\n",
    "\n",
    "    #print(accTrain1)\n",
    "    #print(accTest1)\n",
    "    #print(per1_clf.intercept_)\n",
    "    #print(per1_clf.coef_)\n",
    "    \n",
    "    \n",
    "    listAcc.append((accTrain1,accTest1))\n",
    "    listWeighths.append((per1_clf.intercept_[0],per1_clf.coef_[0][0],per1_clf.coef_[0][1]))\n",
    "\n",
    "\n",
    "    \n",
    "\n",
    "\n",
    "\n",
    "print(listAcc)\n",
    "print(listWeighths)\n",
    "    \n",
    "    \n",
    "    \n",
    "\n"
   ]
  },
  {
   "cell_type": "code",
   "execution_count": 4,
   "id": "fcfe0bbb-2ab5-417f-b177-1d645a52f7fe",
   "metadata": {},
   "outputs": [],
   "source": [
    "import pickle\n",
    "\n",
    "# we pickle the data\n",
    "\n",
    "\n",
    "acc = open('per_acc.pkl', 'wb')\n",
    "pickle.dump(listAcc, acc)\n",
    "acc.close()\n",
    "\n",
    "\n",
    "weights = open('per_wght.pkl', 'wb')\n",
    "pickle.dump(listWeighths, weights)\n",
    "weights.close()"
   ]
  },
  {
   "cell_type": "code",
   "execution_count": 5,
   "id": "5436a2d7-8b8a-4cbe-b225-6da96e84f0fb",
   "metadata": {},
   "outputs": [],
   "source": [
    "import tensorflow as tf\n",
    "from tensorflow import keras"
   ]
  },
  {
   "cell_type": "code",
   "execution_count": 6,
   "id": "30b65d5d-f0a6-4d40-a53d-960975867bda",
   "metadata": {},
   "outputs": [],
   "source": [
    "# we prepare data for 2 task\n",
    "import numpy as np\n",
    "\n",
    "X2 = np.array([[0, 0], [0, 1],[1, 0],[1, 1]])\n",
    "y2 = np.array([0,1, 1, 0])"
   ]
  },
  {
   "cell_type": "code",
   "execution_count": 7,
   "id": "3ca10213-1aac-4414-b75a-164afbec2fba",
   "metadata": {},
   "outputs": [
    {
     "name": "stdout",
     "output_type": "stream",
     "text": [
      "0.5\n"
     ]
    }
   ],
   "source": [
    "# we train our perceptron\n",
    "\n",
    "from sklearn.linear_model import Perceptron\n",
    "from sklearn.metrics import accuracy_score\n",
    "\n",
    "\n",
    "\n",
    "per_XOR = Perceptron()\n",
    "per_XOR.fit(X2,y2)\n",
    "\n",
    "pred_XOR = per_XOR.predict(X2)\n",
    "\n",
    "accXOR = accuracy_score(y2, pred_XOR)\n",
    "print(accXOR)\n",
    "\n",
    "\n",
    "\n",
    "\n",
    "\n"
   ]
  },
  {
   "cell_type": "code",
   "execution_count": 8,
   "id": "7cead4d8-f807-4002-9058-0f26c4668aac",
   "metadata": {},
   "outputs": [
    {
     "name": "stdout",
     "output_type": "stream",
     "text": [
      "iteration1\n",
      "[[0.00806785]\n",
      " [0.99728477]\n",
      " [0.99712884]\n",
      " [0.00563067]]\n",
      "good model\n"
     ]
    }
   ],
   "source": [
    "import tensorflow as tf\n",
    "from tensorflow import keras\n",
    "\n",
    "\n",
    "foundedModel = None\n",
    "\n",
    "for i in range(0,100):\n",
    "\n",
    "        print(\"iteration\" + str(i+1))\n",
    "\n",
    "        modelTmp = keras.models.Sequential()\n",
    "\n",
    "        modelTmp.add(keras.layers.Dense(2, activation=\"tanh\"))\n",
    "        modelTmp.add(keras.layers.Dense(units=1, activation='sigmoid'))\n",
    "\n",
    "        opt = tf.keras.optimizers.Adam(learning_rate=0.15)\n",
    "        modelTmp.compile(loss='BinaryCrossentropy', optimizer=opt)\n",
    "\n",
    "        history = modelTmp.fit(X2, y2, epochs=100, verbose=False)\n",
    "        #print(history.history['loss'])\n",
    "\n",
    "        XOR_predictions = modelTmp.predict(X2)\n",
    "        print(XOR_predictions)\n",
    "\n",
    "\n",
    "        if XOR_predictions[0][0] < 0.1 and XOR_predictions[3][0] < 0.1 and XOR_predictions[1][0] > 0.9 and XOR_predictions[2][0] > 0.9:\n",
    "            print(\"good model\")\n",
    "            foundedModel = modelTmp\n",
    "            break\n",
    "            \n",
    "\n",
    "\n"
   ]
  },
  {
   "cell_type": "code",
   "execution_count": null,
   "id": "d7956b72-fbb5-49dd-b1b2-a36ea3eeef30",
   "metadata": {},
   "outputs": [],
   "source": []
  },
  {
   "cell_type": "code",
   "execution_count": 9,
   "id": "5706e0ec-4f10-40df-833c-091eb98065e8",
   "metadata": {},
   "outputs": [],
   "source": [
    "# we pickel weights\n",
    "\n",
    "\n",
    "\n",
    "weight = foundedModel.get_weights()\n",
    "\n",
    "import pickle\n",
    "\n",
    "# we pickle the data\n",
    "\n",
    "weights = open('mlp_xor_weights.pkl', 'wb')\n",
    "pickle.dump(weight, weights)\n",
    "weights.close()\n",
    "\n",
    "\n"
   ]
  },
  {
   "cell_type": "code",
   "execution_count": null,
   "id": "0dae8530-e574-44b7-a146-5cf5e31a4882",
   "metadata": {},
   "outputs": [],
   "source": []
  },
  {
   "cell_type": "code",
   "execution_count": null,
   "id": "df3dd007-9c38-4db8-9342-c7697750cb06",
   "metadata": {},
   "outputs": [],
   "source": []
  },
  {
   "cell_type": "code",
   "execution_count": null,
   "id": "6f95cd6f-2869-4fe2-bed2-67daf2018f94",
   "metadata": {},
   "outputs": [],
   "source": []
  }
 ],
 "metadata": {
  "kernelspec": {
   "display_name": "Python 3",
   "language": "python",
   "name": "python3"
  },
  "language_info": {
   "codemirror_mode": {
    "name": "ipython",
    "version": 3
   },
   "file_extension": ".py",
   "mimetype": "text/x-python",
   "name": "python",
   "nbconvert_exporter": "python",
   "pygments_lexer": "ipython3",
   "version": "3.6.13"
  }
 },
 "nbformat": 4,
 "nbformat_minor": 5
}
