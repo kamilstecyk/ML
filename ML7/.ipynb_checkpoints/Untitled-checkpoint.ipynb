{
 "cells": [
  {
   "cell_type": "code",
   "execution_count": 1,
   "id": "505db72e-8d64-4668-8ed0-a3efe11f8e09",
   "metadata": {},
   "outputs": [],
   "source": [
    "# we load the data\n",
    "\n",
    "from sklearn.datasets import fetch_openml \n",
    "import numpy as np\n",
    "\n",
    "mnist = fetch_openml('mnist_784', version=1, as_frame=False) \n",
    "mnist.target = mnist.target.astype(np.uint8)\n",
    "X = mnist[\"data\"]\n",
    "y = mnist[\"target\"]\n",
    "\n"
   ]
  },
  {
   "cell_type": "code",
   "execution_count": 11,
   "id": "f63fd3d3-0f8e-4da1-981b-3d8db19b881c",
   "metadata": {},
   "outputs": [
    {
     "name": "stdout",
     "output_type": "stream",
     "text": [
      "0.07338338455321246\n",
      "\n",
      "\n",
      "0.0568152455429516\n",
      "\n",
      "\n",
      "0.05878346099622555\n",
      "\n",
      "\n",
      "0.05834532897886579\n",
      "\n",
      "\n",
      "0.058201686228770005\n",
      "\n",
      "\n",
      "[0.07338338455321246, 0.0568152455429516, 0.05878346099622555, 0.05834532897886579, 0.058201686228770005]\n"
     ]
    }
   ],
   "source": [
    "from sklearn.cluster import KMeans\n",
    "from sklearn.metrics import silhouette_score\n",
    "\n",
    "\n",
    "listToPickle = []\n",
    "\n",
    "for i in range(8,13):\n",
    "    \n",
    "    kmeans = KMeans(n_clusters=i)\n",
    "    kmeans.fit(X)\n",
    "    \n",
    "    score = silhouette_score(X, kmeans.labels_)\n",
    "    \n",
    "    listToPickle.append(score)\n",
    "    print(score)\n",
    "    print(\"\\n\")\n",
    "    \n",
    "    \n",
    "print(listToPickle)\n"
   ]
  },
  {
   "cell_type": "code",
   "execution_count": 14,
   "id": "4f8e61fe-dec6-4140-a4a7-534c77041c5a",
   "metadata": {},
   "outputs": [],
   "source": [
    "# we pickle our list\n",
    "\n",
    "import pickle\n",
    "\n",
    "with open('kmeans_sil.pkl', 'wb') as f:\n",
    "    pickle.dump(listToPickle, f)\n",
    "    \n",
    "    \n",
    "    "
   ]
  },
  {
   "cell_type": "code",
   "execution_count": 12,
   "id": "7551b4b9-5051-4202-8b92-d5623d4eeb2f",
   "metadata": {},
   "outputs": [],
   "source": [
    "# we create matrix of errors\n",
    "\n",
    "# in each row we should have one column which have high result, we are not interersted in diagonal values because it can not be classified in sequence\n",
    "\n",
    "from sklearn.metrics import confusion_matrix\n",
    "\n",
    "kmeans = KMeans(n_clusters=10)\n",
    "kmeans.fit(X)\n",
    "\n",
    "yPredicted = kmeans.predict(X)\n",
    "\n",
    "matrix = confusion_matrix(y,yPredicted)\n",
    "\n",
    "\n",
    "\n",
    "\n"
   ]
  },
  {
   "cell_type": "code",
   "execution_count": 15,
   "id": "779a98ff-5ed1-420c-b19a-c1fecb105aed",
   "metadata": {},
   "outputs": [
    {
     "name": "stdout",
     "output_type": "stream",
     "text": [
      "[[  42    7   72  285    9    2    4 1269 5045  168]\n",
      " [   6   10    9    8   10 4293 3527    7    0    7]\n",
      " [ 215   79  205  318 4867  429  433  237   56  151]\n",
      " [ 186   46 1043 4589  209  459   54  501   21   33]\n",
      " [3732 2187   19    0   29  182  234  262    9  170]\n",
      " [ 426  212 1135 2127    7  167  270 1839   60   70]\n",
      " [  67    4   15   37   57  203   45 1964   73 4411]\n",
      " [2086 4402   20    5   53  377  313   12   21    4]\n",
      " [ 210  187 4116 1181   52  335  324  329   37   54]\n",
      " [3456 2852   88   86   19  267   93   31   50   16]]\n"
     ]
    }
   ],
   "source": [
    "# we pickle our list\n",
    "\n",
    "#print(matrix)\n",
    "\n",
    "#import pickle\n",
    "\n",
    "# this is arbitrary\n",
    "\n",
    "#with open('matrix.pkl', 'wb') as f:\n",
    " #   pickle.dump(matrix, f)\n",
    "    \n",
    "    \n",
    "    "
   ]
  },
  {
   "cell_type": "code",
   "execution_count": 16,
   "id": "efa8692b-565a-45af-95e6-b764b589cf9d",
   "metadata": {},
   "outputs": [
    {
     "name": "stdout",
     "output_type": "stream",
     "text": [
      "{0, 1, 2, 3, 4, 5, 8, 9}\n"
     ]
    }
   ],
   "source": [
    "# we find max indexes in each row\n",
    "\n",
    "setToPickle = set()\n",
    "\n",
    "for row in matrix:\n",
    "    maxIndexInRow = np.argmax(row)\n",
    "    setToPickle.add(maxIndexInRow)\n",
    "    \n",
    "    \n",
    "print(setToPickle)\n"
   ]
  },
  {
   "cell_type": "code",
   "execution_count": 18,
   "id": "c11b98ec-0e58-4d0a-84f7-525628d579b3",
   "metadata": {},
   "outputs": [],
   "source": [
    "# we pickle \n",
    "\n",
    "import pickle\n",
    "\n",
    "with open('kmeans_argmax.pkl', 'wb') as f:\n",
    "    pickle.dump(setToPickle, f)\n",
    "    \n"
   ]
  },
  {
   "cell_type": "code",
   "execution_count": 21,
   "id": "f0c6e4da-0ed7-4429-8e7a-cdfd37e18415",
   "metadata": {},
   "outputs": [
    {
     "name": "stdout",
     "output_type": "stream",
     "text": [
      "loaded_obj1 is [0.07338338455321246, 0.0568152455429516, 0.05878346099622555, 0.05834532897886579, 0.058201686228770005]\n",
      "loaded_obj2 is {0, 1, 2, 3, 4, 5, 8, 9}\n"
     ]
    }
   ],
   "source": [
    "# we check unpickling\n",
    "\n",
    "import pickle\n",
    "\n",
    "with open('kmeans_sil.pkl','rb') as f:\n",
    "    loaded_obj1 = pickle.load(f)\n",
    "    \n",
    "with open('kmeans_argmax.pkl','rb') as f2:\n",
    "    loaded_obj2 = pickle.load(f2)\n",
    "    \n",
    "print('loaded_obj1 is', loaded_obj1)\n",
    "print('loaded_obj2 is', loaded_obj2)\n",
    "\n"
   ]
  },
  {
   "cell_type": "code",
   "execution_count": null,
   "id": "34b567bf-1e01-48e1-9266-75c02f619864",
   "metadata": {},
   "outputs": [],
   "source": [
    "# 300 x ilestam"
   ]
  }
 ],
 "metadata": {
  "kernelspec": {
   "display_name": "Python 3 (ipykernel)",
   "language": "python",
   "name": "python3"
  },
  "language_info": {
   "codemirror_mode": {
    "name": "ipython",
    "version": 3
   },
   "file_extension": ".py",
   "mimetype": "text/x-python",
   "name": "python",
   "nbconvert_exporter": "python",
   "pygments_lexer": "ipython3",
   "version": "3.9.10"
  }
 },
 "nbformat": 4,
 "nbformat_minor": 5
}
